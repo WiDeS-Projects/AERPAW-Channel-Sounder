{
 "cells": [
  {
   "cell_type": "code",
   "execution_count": null,
   "id": "591d3f18",
   "metadata": {},
   "outputs": [],
   "source": [
    "import numpy as np\n",
    "from scipy import signal\n",
    "from scipy.signal import lfilter\n",
    "import matplotlib.pyplot as plt\n",
    "from scipy.fft import fft, fftfreq, rfft, rfftfreq, fftshift\n",
    "# import pyfftw\n",
    "import multiprocessing\n",
    "import scipy.io as sio\n",
    "import matplotlib.pyplot as plot\n",
    "import yaml\n",
    "import os\n",
    "import datetime\n",
    "import glob\n",
    "from scipy.signal import square, find_peaks, ShortTimeFFT\n",
    "from scipy.signal.windows import gaussian\n",
    "from scipy.signal import hilbert\n",
    "# pyfftw.config.NUM_THREADS = multiprocessing.cpu_count()\n",
    "\n",
    "%matplotlib inline"
   ]
  },
  {
   "cell_type": "code",
   "execution_count": null,
   "id": "8d8bcae5",
   "metadata": {},
   "outputs": [],
   "source": [
    "# r = np.load(\"../sounder/exp/out/2022-11-08/received_450.npz\")\n",
    "# r = np.load(\"../sounder/out/received_2_2_21m.npz\")\n",
    "# r = np.load(\"../sounder/out/2022-11-16/received_8.npz\")\n",
    "# r = np.load(\"../2022-11-16/received_12.npz\")\n",
    "measures = sorted(glob.glob(\"../../field_data/measurements/*\"), key=os.path.getmtime)\n",
    "# r = np.load(f\"../measurements/2023-06-06_16_44/received_150.npz\", allow_pickle=True)\n",
    "print(measures[10])\n",
    "r = np.load(f\"{measures[6]}/received_70.21.npz\", allow_pickle=True)\n",
    "\n",
    "rcv = r[\"rcv\"][0]\n",
    "sample_rate = 56e6\n",
    "print(r[\"rx_time\"])"
   ]
  },
  {
   "cell_type": "code",
   "execution_count": null,
   "id": "0c4ffb21",
   "metadata": {},
   "outputs": [],
   "source": [
    "x = r[\"ref\"][:401]\n",
    "\n",
    "xcorr = signal.correlate(x, rcv, mode=\"full\", method=\"fft\")\n",
    "xcorr = np.flip(xcorr) \n",
    "xcorr = np.abs(xcorr)\n",
    "peaks_main, _ = find_peaks(xcorr, distance=401, prominence=40)\n",
    "\n",
    "clipped_corr = xcorr[peaks_main[0]-10:peaks_main[-1]+200]\n",
    "peaks, _ = find_peaks(clipped_corr, distance=401, prominence=40)\n",
    "\n",
    "\n",
    "fig, ax = plt.subplots(2, 1, figsize=(20, 10))\n",
    "ax[0].plot(clipped_corr)\n",
    "ax[0].plot(peaks, clipped_corr[peaks], \"x\")\n",
    "ax[0].set_yscale('log')\n",
    "ax[0].set_title(\"Cross-correlation\")\n",
    "\n",
    "\n",
    "\n",
    "ax[1].plot(rcv[peaks_main[0]:peaks_main[1]])\n",
    "ax[1].plot(x)\n",
    "ax[1].legend([\"Received\", \"Transmitted\"])"
   ]
  },
  {
   "cell_type": "code",
   "execution_count": null,
   "id": "438c040e",
   "metadata": {},
   "outputs": [],
   "source": [
    "N = rcv.size\n",
    "psd = np.fft.fftshift(np.abs(np.fft.fft(rcv)))\n",
    "f = np.linspace(-sample_rate/2.0, sample_rate/2.0, len(psd))\n",
    "%matplotlib inline\n",
    "plt.rcParams['figure.figsize'] = [15, 10]\n",
    "plt.plot(f, psd)\n",
    "plt.show()"
   ]
  },
  {
   "cell_type": "code",
   "execution_count": null,
   "id": "3c81a15d",
   "metadata": {},
   "outputs": [],
   "source": [
    "Ts = 1/sample_rate\n",
    "t = np.arange(0, Ts*len(rcv), 1) "
   ]
  },
  {
   "cell_type": "code",
   "execution_count": null,
   "id": "d53fa56c",
   "metadata": {},
   "outputs": [],
   "source": [
    "plot.specgram(rcv, Fs=int(sample_rate))\n",
    "plot.show()"
   ]
  },
  {
   "cell_type": "code",
   "execution_count": null,
   "id": "4c755668",
   "metadata": {
    "scrolled": true
   },
   "outputs": [],
   "source": [
    "f, t, Sxx = signal.spectrogram(rcv, sample_rate)\n",
    "plt.rcParams['figure.figsize'] = [20, 8]\n",
    "plt.pcolormesh(t, f, Sxx, shading='gouraud')\n",
    "\n",
    "plt.ylabel('Frequency [Hz]')\n",
    "plt.xlabel('Time [sec]')\n",
    "plt.show()"
   ]
  },
  {
   "cell_type": "code",
   "execution_count": null,
   "id": "dbeb498f",
   "metadata": {},
   "outputs": [],
   "source": [
    "def estimate_and_remove_noise_floor(cir, noise_start_idx, noise_end_idx):\n",
    "    \"\"\"\n",
    "    Estimates the noise floor from the Channel Impulse Response (CIR) and subtracts it.\n",
    "    \n",
    "    Parameters:\n",
    "    - cir: The Channel Impulse Response, as a NumPy array.\n",
    "    - noise_start_idx: The index in CIR from where noise estimation should start.\n",
    "    \n",
    "    Returns:\n",
    "    - The CIR with the estimated noise floor removed.\n",
    "    \"\"\"\n",
    "    # Estimate the noise floor\n",
    "    noise_floor = np.mean(np.abs(cir[noise_start_idx:noise_end_idx]))\n",
    "    \n",
    "    # Subtract the noise floor from the magnitude of the CIR\n",
    "    cir_mag_no_noise = np.abs(cir) - noise_floor\n",
    "    \n",
    "    # Ensure no negative values\n",
    "    cir_mag_no_noise[cir_mag_no_noise < 0] = 0\n",
    "    \n",
    "    # Retain phase information by recombining the adjusted magnitude with the original phase\n",
    "    cir_no_noise = cir_mag_no_noise * np.exp(1j * np.angle(cir))\n",
    "    \n",
    "    return cir_no_noise\n"
   ]
  },
  {
   "cell_type": "code",
   "execution_count": null,
   "id": "fa9c553c",
   "metadata": {},
   "outputs": [],
   "source": [
    "x = r[\"ref\"][:401]\n",
    "ofdm_wcp = r[\"ref\"][1704:]\n",
    "\n",
    "xcorr = signal.correlate(x, rcv, mode=\"full\", method=\"fft\")\n",
    "xcorr = np.flip(xcorr) \n",
    "xcorr = np.abs(xcorr)\n",
    "peaks_rw, _ = find_peaks(xcorr, distance=401, prominence=40)\n",
    "\n",
    "print(peaks_rw)"
   ]
  },
  {
   "cell_type": "code",
   "execution_count": null,
   "id": "a9255c0d",
   "metadata": {},
   "outputs": [],
   "source": [
    "rcvd_tr  = rcv[peaks_rw[0]:peaks_rw[0]+802] "
   ]
  },
  {
   "cell_type": "code",
   "execution_count": null,
   "id": "653e4c7b",
   "metadata": {},
   "outputs": [],
   "source": [
    "def estimate_frequency_offset(rcv_training, fs):\n",
    "    \"\"\"\n",
    "    Estimate frequency offset using autocorrelation method.\n",
    "\n",
    "    Parameters:\n",
    "    - signal: The input signal (numpy array).\n",
    "    - fs: Sampling frequency of the input signal.\n",
    "\n",
    "    Returns:\n",
    "    - Estimated frequency offset in Hz.\n",
    "    \"\"\"\n",
    "    # Calculate autocorrelation of the signal\n",
    "    hlf_size = len(rcv_training) // 2\n",
    "    autocorr = np.dot(rcv_training[:hlf_size], np.conj(rcv_training[hlf_size:])) \n",
    "    phase_diff = np.angle(autocorr)\n",
    "    cfo_estimate = (phase_diff / (2 * np.pi)) * fs / 401\n",
    "\n",
    "    return cfo_estimate"
   ]
  },
  {
   "cell_type": "code",
   "execution_count": null,
   "id": "318b8f87",
   "metadata": {},
   "outputs": [],
   "source": [
    "def moose_alg(samples, fs ):\n",
    "    num_samples = samples.size\n",
    "    self_ref_size = num_samples//2\n",
    "    first_half = np.vstack(samples[:self_ref_size])\n",
    "    second_half = np.vstack(samples[self_ref_size:])\n",
    "    phase_offset,_,_,_ = np.linalg.lstsq(first_half, second_half, rcond=None)\n",
    "    # use phase offset to find frequency\n",
    "    freq_shift = np.angle(phase_offset)/(2*np.pi)/(1/fs*self_ref_size) \n",
    "    freq_shift = np.squeeze(np.array(freq_shift))\n",
    "    return freq_shift"
   ]
  },
  {
   "cell_type": "code",
   "execution_count": null,
   "id": "f8e7b879",
   "metadata": {},
   "outputs": [],
   "source": [
    "def calculate_doppler_shift(freq, speed):\n",
    "    \"\"\"\n",
    "    Calculate the Doppler shift given the frequency and the speed of the moving object.\n",
    "    \n",
    "    Parameters:\n",
    "    - freq: The frequency of the signal.\n",
    "    - speed: The speed of the moving object.\n",
    "    \n",
    "    Returns:\n",
    "    - The Doppler shift.\n",
    "    \"\"\"\n",
    "    speed_of_light = 3e8\n",
    "    doppler_shift_freq = freq * (speed_of_light + speed) / speed_of_light\n",
    "    \n",
    "    return doppler_shift_freq - freq"
   ]
  },
  {
   "cell_type": "code",
   "execution_count": null,
   "id": "4cddf428",
   "metadata": {},
   "outputs": [],
   "source": [
    "f_off_moose = moose_alg(rcvd_tr, sample_rate)\n",
    "f_off = estimate_frequency_offset(rcvd_tr, sample_rate)\n",
    "\n",
    "print(f\"Moose alg: {f_off_moose} Hz, Correlation Based: {f_off} Hz\")\n",
    "wo_doppler = f_off_moose - calculate_doppler_shift(3.6e9, -10) \n",
    "print(f\"Wo dopler: {wo_doppler} Hz\")"
   ]
  },
  {
   "cell_type": "code",
   "execution_count": null,
   "id": "dfc2306a",
   "metadata": {},
   "outputs": [],
   "source": [
    "Ts = 1/sample_rate\n",
    "t = np.arange(0, Ts*len(rcv) - Ts, Ts) \n",
    "rcv_compansated = rcv * np.exp(-1j*2*np.pi*f_off*t) "
   ]
  },
  {
   "cell_type": "code",
   "execution_count": null,
   "id": "f6b1a9f4",
   "metadata": {},
   "outputs": [],
   "source": [
    "xcorr = signal.correlate(x, rcv_compansated, mode=\"full\", method=\"fft\")\n",
    "xcorr = np.flip(xcorr) \n",
    "# xcorr = np.abs(xcorr)\n",
    "peaks, _ = find_peaks(xcorr, distance=401, prominence=40)"
   ]
  },
  {
   "cell_type": "code",
   "execution_count": null,
   "id": "4a6b9683",
   "metadata": {},
   "outputs": [],
   "source": [
    "peaks_, _ = find_peaks(xcorr[peaks[0]-2:peaks[0]+360], distance=3, prominence=37)"
   ]
  },
  {
   "cell_type": "code",
   "execution_count": null,
   "id": "95c56ea5",
   "metadata": {},
   "outputs": [],
   "source": [
    "peaks_[1:]"
   ]
  },
  {
   "cell_type": "code",
   "execution_count": null,
   "id": "29dd251a",
   "metadata": {},
   "outputs": [],
   "source": [
    "delays = peaks_[1:] - peaks_[0] "
   ]
  },
  {
   "cell_type": "code",
   "execution_count": null,
   "id": "f684f61a",
   "metadata": {},
   "outputs": [],
   "source": [
    "delays"
   ]
  },
  {
   "cell_type": "code",
   "execution_count": null,
   "id": "254c1b92",
   "metadata": {},
   "outputs": [],
   "source": [
    "for dly in delays:\n",
    "    dist = dly * 1/sample_rate * 3e8\n",
    "    print(f\"{dist} meters\")"
   ]
  },
  {
   "cell_type": "code",
   "execution_count": null,
   "id": "2a90b4e2",
   "metadata": {},
   "outputs": [],
   "source": [
    "# a2 + 2ab + b2 = (a+b)2 / c2 = a2 + b2 / a + b = c - 10.71  "
   ]
  },
  {
   "cell_type": "code",
   "execution_count": null,
   "id": "55883b09",
   "metadata": {},
   "outputs": [],
   "source": [
    "corrI = signal.correlate(x.real, rcv.real, mode=\"full\", method=\"fft\")\n",
    "corrI = corrI/len(x)\n",
    "corrI = np.flip(corrI)\n",
    "\n",
    "corrQ = signal.correlate(x.imag, rcv.imag, mode=\"full\", method=\"fft\")\n",
    "corrQ = corrQ/len(x)\n",
    "corrQ = np.flip(corrQ)\n",
    "\n",
    "corrI = corrI**2\n",
    "corrQ = corrQ**2\n",
    "corrIQ = np.array([x + y for x, y in zip(corrI, corrQ)])\n",
    "cir = np.sqrt(corrIQ)\n",
    "zero_index_corr = np.argmax(xcorr)"
   ]
  },
  {
   "cell_type": "code",
   "execution_count": null,
   "id": "99f85249",
   "metadata": {},
   "outputs": [],
   "source": [
    "fig, (ax_orig, ax_corr, ax_cir, pdp, constl) = plt.subplots(5, 1, figsize=(15, 15))\n",
    "ax_orig.plot(x)\n",
    "# ax_orig.plot(rcv[peaks_rw[0]:peaks_rw[1]-1])\n",
    "ax_orig.plot(rcv_compansated[peaks[0]:peaks[0]+401])\n",
    "ax_orig.legend(['Transmitted', 'Received', 'Received Freq Comp.'])\n",
    "ax_orig.set_title('Received signal vs Transmitted')\n",
    "ax_orig.set_xlabel(\"Samples\")\n",
    "\n",
    "zero_index_corr = peaks[0]\n",
    "corr = xcorr[zero_index_corr-2:zero_index_corr+360]\n",
    "# corr = xcorr\n",
    "cir_dB = 10 * np.log10(corr + 1e-8)\n",
    "ax_corr.plot(cir_dB)\n",
    "ax_corr.plot(peaks_, cir_dB[peaks_], \"x\")\n",
    "ax_corr.set_title('CIR -')\n",
    "ax_corr.set_xlabel(\"Time(μs)\")\n",
    "\n",
    "zero_index_cir = np.argmax(cir)\n",
    "m_cir = cir[zero_index_cir-10:zero_index_cir+500]\n",
    "m_cir = np.flip(m_cir)\n",
    "ax_cir.plot(np.linspace(0,(1/sample_rate)*len(m_cir)*1e6,len(m_cir)),np.log10(m_cir))\n",
    "ax_cir.set_title('CIR')\n",
    "ax_cir.set_xlabel(\"Time(μs)\")\n",
    "\n",
    "constl.plot(np.real(rcv_compansated[peaks[0]:peaks[0]+401]), np.imag(rcv_compansated[peaks[0]:peaks[0]+401]), \".\")\n",
    "constl.set_title('Constellation')\n",
    "\n",
    "pdp.plot( np.linspace(0,1,len(corr)), 20*np.log10(np.abs(corr)**2)+27)\n",
    "pdp.set_title('PDP')\n",
    "pdp.set_xlabel(\"Time(μs)\")\n",
    "\n",
    "ax_orig.margins(0, 0.1)\n",
    "ax_corr.margins(0, 0.001)\n",
    "ax_cir.margins(0, 0.001)\n",
    "pdp.margins(0, 0.001)\n",
    "constl.margins(0,0.1)\n",
    "\n",
    "fig.tight_layout()\n",
    "\n",
    "plt.show()"
   ]
  },
  {
   "cell_type": "code",
   "execution_count": null,
   "id": "aa522eb1",
   "metadata": {},
   "outputs": [],
   "source": [
    "import scipy \n",
    "\n",
    "K = 512  # Number of subcarriers\n",
    "P = 512 # Number of pilot subcarriers\n",
    "CP = K // 4\n",
    "pilotValue = 1 + 1j\n",
    "allCarriers = np.arange(K)  # indices of all subcarriers ([0, 1, ... K-1])\n",
    "\n",
    "pilotCarriers = allCarriers[:: K // P]  # Pilots is every (K/P)th carrier.\n",
    "\n",
    "pilotCarriers = np.hstack([pilotCarriers, np.array([allCarriers[-1]])])\n",
    "dataCarriers = np.delete(allCarriers, pilotCarriers)\n",
    "\n",
    "symbol = np.zeros(K, dtype=complex)  # the overall K subcarriers\n",
    "symbol[pilotCarriers] = pilotValue  # allocate the pilot subcarriers\n",
    "symbol[dataCarriers] = 0 + 0j  # allocate the data subcarriers\n",
    "\n",
    "ofdm_rcv = rcv[zero_index_corr:zero_index_corr+700] / 5\n",
    "\n",
    "def channelEstimate(OFDM_demod):\n",
    "    pilots = OFDM_demod[pilotCarriers]  # extract the pilot values from the RX signal\n",
    "    Hest_at_pilots = pilots / pilotValue # divide by the transmitted pilot values\n",
    "    \n",
    "    Hest_abs = scipy.interpolate.interp1d(pilotCarriers, abs(Hest_at_pilots), kind='linear')(allCarriers)\n",
    "    Hest_phase = scipy.interpolate.interp1d(pilotCarriers, np.angle(Hest_at_pilots), kind='linear')(allCarriers)\n",
    "    Hest = Hest_abs * np.exp(1j*Hest_phase)\n",
    "    \n",
    "    # plt.plot(allCarriers, abs(H_exact), label='Correct Channel')\n",
    "    plt.stem(pilotCarriers, abs(Hest_at_pilots), label='Pilot estimates')\n",
    "    plt.plot(allCarriers, abs(Hest), label='Estimated channel via interpolation')\n",
    "    plt.grid(True); plt.xlabel('Carrier index'); plt.ylabel('$|H(f)|$'); plt.legend(fontsize=10)\n",
    "    plt.ylim(0,2)\n",
    "    \n",
    "    return Hest\n",
    "\n",
    "\n",
    "def removeCP(signal):\n",
    "    return signal[CP:]\n",
    "\n",
    "OFDM_RX_noCP = removeCP(ofdm_rcv)\n",
    "\n",
    "def DFT(OFDM_RX):\n",
    "    return np.fft.fft(OFDM_RX)\n",
    "\n",
    "OFDM_demod = DFT(OFDM_RX_noCP)\n",
    "\n",
    "Hest = channelEstimate(OFDM_demod)"
   ]
  },
  {
   "cell_type": "code",
   "execution_count": null,
   "id": "1ea7c186",
   "metadata": {},
   "outputs": [],
   "source": [
    "plot.specgram(ofdm_rcv, Fs=int(sample_rate))\n",
    "plot.show()"
   ]
  },
  {
   "cell_type": "code",
   "execution_count": null,
   "id": "7beddda4",
   "metadata": {},
   "outputs": [],
   "source": [
    "pilots = OFDM_demod[pilotCarriers] / 2  # extract the pilot values from the RX signal\n",
    "Hest_at_pilots = pilots / pilotValue # divide by the transmitted pilot values\n",
    "\n",
    "Hest_abs = scipy.interpolate.interp1d(pilotCarriers, abs(Hest_at_pilots), kind='linear')(allCarriers)\n",
    "Hest_phase = scipy.interpolate.interp1d(pilotCarriers, np.angle(Hest_at_pilots), kind='linear')(allCarriers)\n",
    "Hest = Hest_abs * np.exp(1j*Hest_phase)\n",
    "\n",
    "# plt.plot(allCarriers, abs(H_exact), label='Correct Channel')\n",
    "plt.stem(pilotCarriers, abs(Hest_at_pilots), label='Pilot estimates')\n",
    "plt.plot(allCarriers, abs(Hest), label='Estimated channel via interpolation')\n",
    "plt.grid(True); plt.xlabel('Carrier index'); plt.ylabel('$|H(f)|$'); plt.legend(fontsize=10)\n",
    "plt.ylim(0,2)\n",
    "    "
   ]
  },
  {
   "cell_type": "code",
   "execution_count": null,
   "id": "926f4dc8-65c8-4d4c-81be-26684ea456fa",
   "metadata": {},
   "outputs": [],
   "source": [
    "ht = np.fft.ifft(Hest_at_pilots, K)\n",
    "plt.plot(ht)\n",
    "plt.show()"
   ]
  },
  {
   "cell_type": "code",
   "execution_count": null,
   "id": "30d5317b-c5df-4125-b398-ce632e9483c2",
   "metadata": {},
   "outputs": [],
   "source": [
    "import numpy as np\n",
    "\n",
    "def zadoff_chu_sequence(N, root):\n",
    "    \"\"\"\n",
    "    Generate a Zadoff-Chu sequence of length N with a given root index.\n",
    "    \"\"\"\n",
    "    n = np.arange(N)\n",
    "    seq = np.exp(-1j * np.pi * root * n * (n + 1) / N)\n",
    "    return seq\n",
    "\n",
    "def freq_offset_estimation(received_signal, N, root):\n",
    "    \"\"\"\n",
    "    Estimate the frequency offset using a Zadoff-Chu sequence.\n",
    "    \"\"\"\n",
    "    # Generate the Zadoff-Chu sequence\n",
    "    sequence = zadoff_chu_sequence(N, root)\n",
    "    \n",
    "    # Compute the correlation between the received signal and the sequence\n",
    "    corr = np.conj(received_signal) * sequence\n",
    "    \n",
    "    # Compute the angle of the correlation values\n",
    "    angles = np.angle(corr)\n",
    "    \n",
    "    # Compute the frequency offset estimate\n",
    "    freq_offset_estimate = np.mean(np.diff(angles)) / (2 * np.pi)\n",
    "    \n",
    "    return freq_offset_estimate\n",
    "\n",
    "# Example usage\n",
    "N = 64  # Length of the sequence\n",
    "root = 25  # Root index for the Zadoff-Chu sequence\n",
    "\n",
    "# Generate a random received signal with frequency offset\n",
    "freq_offset = 0.1  # Normalized frequency offset\n",
    "received_signal = np.exp(1j * 2 * np.pi * freq_offset * np.arange(N))\n",
    "\n",
    "# Estimate the frequency offset\n",
    "freq_offset_estimate = freq_offset_estimation(received_signal, N, root)\n",
    "\n",
    "print(f\"True frequency offset: {freq_offset}\")\n",
    "print(f\"Estimated frequency offset: {freq_offset_estimate}\")"
   ]
  },
  {
   "cell_type": "code",
   "execution_count": null,
   "id": "c38df2b1",
   "metadata": {},
   "outputs": [],
   "source": [
    "# imports go here\n",
    "import numpy as np\n",
    "import matplotlib.pyplot as plt\n",
    " \n",
    "# functions go here\n",
    "def moose_alg(samples, fs ):\n",
    "    num_samples = samples.size\n",
    "    self_ref_size = num_samples//2\n",
    "    first_half = np.matrix(samples[:self_ref_size])\n",
    "    second_half = np.matrix(samples[self_ref_size:])\n",
    "    phase_offset,_,_,_ = np.linalg.lstsq(first_half.transpose(), second_half.transpose() )\n",
    "    # use phase offset to find frequency\n",
    "    freq_shift = np.angle(phase_offset)/2/np.pi/(1/fs*self_ref_size)\n",
    "    return freq_shift\n",
    " \n",
    "# main thing goes here\n",
    "if __name__ == '__main__':\n",
    "    # some params\n",
    "    freq_offset = 5\n",
    "    fs = 10000.0\n",
    "    # establish our barker codes\n",
    "    bc13 = np.array([1, 1, 1, 1, 1, -1, -1, 1, 1, -1, 1, -1, 1])\n",
    "    # let's make our training sequence bc13, flip bc13, bc13, flip bc13\n",
    "    training = np.hstack( (bc13, bc13) )\n",
    "    training = np.hstack( (training, training))\n",
    "    # mess up our training using frequency offset and noise\n",
    "    freq_offset = 5\n",
    "    n = np.arange( training.size )\n",
    "    time = n/fs\n",
    "    freq_off_vec = np.exp(1j*2*np.pi*freq_offset*time)\n",
    "    received = training*freq_off_vec + np.random.randn(training.size)*.1\n",
    "    # pass what we have to moose algorithm\n",
    "    freq_shift = moose_alg( received, fs )\n",
    "    print(freq_shift)"
   ]
  },
  {
   "cell_type": "code",
   "execution_count": null,
   "id": "f44f208a",
   "metadata": {},
   "outputs": [],
   "source": []
  }
 ],
 "metadata": {
  "interpreter": {
   "hash": "767d51c1340bd893661ea55ea3124f6de3c7a262a8b4abca0554b478b1e2ff90"
  },
  "kernelspec": {
   "display_name": "Python 3 (ipykernel)",
   "language": "python",
   "name": "python3"
  },
  "language_info": {
   "codemirror_mode": {
    "name": "ipython",
    "version": 3
   },
   "file_extension": ".py",
   "mimetype": "text/x-python",
   "name": "python",
   "nbconvert_exporter": "python",
   "pygments_lexer": "ipython3",
   "version": "3.12.2"
  }
 },
 "nbformat": 4,
 "nbformat_minor": 5
}
